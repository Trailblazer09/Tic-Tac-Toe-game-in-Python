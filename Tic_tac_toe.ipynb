{
  "nbformat": 4,
  "nbformat_minor": 0,
  "metadata": {
    "colab": {
      "provenance": [],
      "authorship_tag": "ABX9TyPmu2HIU/HS3mZJt8ubyKbQ",
      "include_colab_link": true
    },
    "kernelspec": {
      "name": "python3",
      "display_name": "Python 3"
    },
    "language_info": {
      "name": "python"
    }
  },
  "cells": [
    {
      "cell_type": "markdown",
      "metadata": {
        "id": "view-in-github",
        "colab_type": "text"
      },
      "source": [
        "<a href=\"https://colab.research.google.com/github/Trailblazer09/Tic-Tac-Toe-game-in-Python/blob/main/Tic_tac_toe.ipynb\" target=\"_parent\"><img src=\"https://colab.research.google.com/assets/colab-badge.svg\" alt=\"Open In Colab\"/></a>"
      ]
    },
    {
      "cell_type": "code",
      "execution_count": null,
      "metadata": {
        "colab": {
          "base_uri": "https://localhost:8080/"
        },
        "id": "UXy4NsrQNy-f",
        "outputId": "511b1609-8d8c-415d-ba27-84cffdd24e25"
      },
      "outputs": [
        {
          "output_type": "stream",
          "name": "stdout",
          "text": [
            "\n",
            "\n",
            "  |   |  \n",
            "--+---+--\n",
            "  |   |  \n",
            "--+---+--\n",
            "  |   |  \n",
            "\n",
            "\n"
          ]
        }
      ],
      "source": [
        "board = [' ' for _ in range(9)]\n",
        "\n",
        "def print_board():\n",
        "    print(\"\\n\")\n",
        "    for i in range(3):\n",
        "        print(f\"{board[i*3]} | {board[i*3+1]} | {board[i*3+2]}\")\n",
        "        if i < 2:\n",
        "            print(\"--+---+--\")\n",
        "    print(\"\\n\")\n",
        "\n",
        "def check_winner(player):\n",
        "    combos = [(0,1,2), (3,4,5), (6,7,8), (0,3,6), (1,4,7), (2,5,8),\n",
        "              (0,4,8), (2,4,6)]\n",
        "    return any(all(board[i] == player for i in combo) for combo in combos)\n",
        "\n",
        "def is_draw():\n",
        "    return ' ' not in board\n",
        "\n",
        "def tic_tac_toe():\n",
        "    current = 'X'\n",
        "    while True:\n",
        "        print_board()\n",
        "        move = int(input(f\"Player {current}, choose a cell (0-8): \"))\n",
        "        if board[move] == ' ':\n",
        "            board[move] = current\n",
        "            if check_winner(current):\n",
        "                print_board()\n",
        "                print(f\"Player {current} wins!\")\n",
        "                break\n",
        "            elif is_draw():\n",
        "                print_board()\n",
        "                print(\"It's a draw!\")\n",
        "                break\n",
        "            current = 'O' if current == 'X' else 'X'\n",
        "        else:\n",
        "            print(\"Invalid move, try again.\")\n",
        "\n",
        "tic_tac_toe()"
      ]
    }
  ]
}